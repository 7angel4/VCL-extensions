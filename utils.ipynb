{
 "cells": [
  {
   "cell_type": "code",
   "execution_count": 7,
   "id": "21c4630a-ce95-476b-9056-5776a8825515",
   "metadata": {},
   "outputs": [],
   "source": [
    "%run constants.ipynb"
   ]
  },
  {
   "cell_type": "code",
   "execution_count": 44,
   "id": "1cc6e16e-95f0-42ba-9a12-d483963bfa2b",
   "metadata": {},
   "outputs": [],
   "source": [
    "def get_results_dir(config):\n",
    "    results_dir = RESULTS_DIR\n",
    "    os.makedirs(results_dir, exist_ok=True)\n",
    "    return results_dir\n",
    "\n",
    "def plot_filepath(config, suffix=None):\n",
    "    return f\"{get_results_dir(config)}/{config.task_type}_{config.coreset_alg_name}{config.coreset_size}_{suffix}_plot.png\"\n",
    "\n",
    "def data_filepath(config, suffix=None):\n",
    "    return f\"{get_results_dir(config)}/{config.task_type}_{config.coreset_alg_name}_{suffix}.h5\""
   ]
  },
  {
   "cell_type": "code",
   "execution_count": 45,
   "id": "464bb178-2bb9-4c7c-aa65-8cf958842214",
   "metadata": {},
   "outputs": [],
   "source": [
    "import h5py\n",
    "\n",
    "def export_results(config, data, datatype='mean'):\n",
    "    \"\"\" Exports the dictionary `data` to an HDF5 file. \"\"\"\n",
    "    with h5py.File(data_filepath(config, suffix=datatype), 'w') as f:\n",
    "        # Iterate over the dictionary and save each array as a dataset\n",
    "        for key, array in data.items():\n",
    "            f.create_dataset(key, data=array)\n",
    "\n",
    "def import_results(config, datatype='mean'):\n",
    "    \"\"\" Imports the data dictionary from an HDF5 file. \"\"\"\n",
    "    imported_data = {}\n",
    "    with h5py.File(data_filepath(config, suffix=datatype), 'r') as f:\n",
    "        # Iterate through the keys in the file and load the datasets\n",
    "        for key in f.keys():\n",
    "            imported_data[key] = f[key][:]\n",
    "    return imported_data"
   ]
  },
  {
   "cell_type": "code",
   "execution_count": 46,
   "id": "3df17526-750d-4707-aa36-471ff993f842",
   "metadata": {},
   "outputs": [],
   "source": [
    "def plot_results(config, results, results_std=None, export=True, title='Mean'):\n",
    "    \"\"\"Plot comparison of results with optional error bars.\"\"\"\n",
    "    MARKER_SIZE = 8\n",
    "    CAPSIZE = 4\n",
    "    ELINEWIDTH = 1\n",
    "    fig, ax = plt.subplots(figsize=(18, 6))\n",
    "    x_ticks = range(1, len(config.tasks)+1)\n",
    "    \n",
    "    for model in results:\n",
    "        x_vals = np.arange(len(results[model])) + 1\n",
    "        # If std info is provided, add error bars\n",
    "        if results_std is not None:\n",
    "            ax.errorbar(x_vals, results[model], yerr=results_std[model], \n",
    "                         label=model, marker='o', \n",
    "                         markersize=MARKER_SIZE, capsize=CAPSIZE, elinewidth=ELINEWIDTH)\n",
    "        else:\n",
    "            ax.plot(x_vals, results[model], \n",
    "                     label=model, marker='o', markersize=MARKER_SIZE)\n",
    "    \n",
    "    ax.set_xticks(x_ticks)\n",
    "    ax.set_title(f\"{title} {config.eval_metric}\", fontsize=18)\n",
    "    ax.set_xlabel(\"# Tasks\", fontsize=15)\n",
    "    ax.legend(fontsize=15)\n",
    "\n",
    "    plt.tight_layout()\n",
    "    if export:\n",
    "        plt.savefig(plot_filepath(config, suffix=title.lower()))\n",
    "    \n",
    "    plt.show()"
   ]
  },
  {
   "cell_type": "code",
   "execution_count": 47,
   "id": "5412e744-eee1-45fa-968d-cafb4730ca6f",
   "metadata": {},
   "outputs": [],
   "source": [
    "def plot_mean_results(config, results, results_std=None, export=True):\n",
    "    get_mean_val = (lambda res: np.mean(res, axis=0, where=(res > 1e-6)))\n",
    "    \n",
    "    mean_results = {m: get_mean_val(res) for m, res in results.items()}\n",
    "    mean_results_std = {m: get_mean_val(s) for m, s in results_std.items()}\n",
    "    return plot_results(config, mean_results, results_std=mean_results_std, export=export, title='Mean')\n",
    "\n",
    "def plot_final_results(config, results, results_std=None, export=True):\n",
    "    final_results = {m: res[-1] for m, res in results.items()}\n",
    "    final_results_std = {m: s[-1] for m, s in results_std.items()}\n",
    "    return plot_results(config, final_results, results_std=final_results_std, export=export, title='Final')"
   ]
  },
  {
   "cell_type": "code",
   "execution_count": null,
   "id": "f38383e4-43de-42c0-b62a-3602906fd44f",
   "metadata": {},
   "outputs": [],
   "source": []
  },
  {
   "cell_type": "code",
   "execution_count": null,
   "id": "c68a12d0-afaa-4dd1-a1c7-2e56d2ebb38c",
   "metadata": {},
   "outputs": [],
   "source": []
  }
 ],
 "metadata": {
  "kernelspec": {
   "display_name": "Python 3 (ipykernel)",
   "language": "python",
   "name": "python3"
  },
  "language_info": {
   "codemirror_mode": {
    "name": "ipython",
    "version": 3
   },
   "file_extension": ".py",
   "mimetype": "text/x-python",
   "name": "python",
   "nbconvert_exporter": "python",
   "pygments_lexer": "ipython3",
   "version": "3.12.7"
  }
 },
 "nbformat": 4,
 "nbformat_minor": 5
}
