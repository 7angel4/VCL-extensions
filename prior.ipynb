{
 "cells": [
  {
   "cell_type": "code",
   "execution_count": 30,
   "id": "7e65984b-75c7-419f-8468-a56a6113da38",
   "metadata": {},
   "outputs": [],
   "source": [
    "class Prior:\n",
    "    def __init__(self):\n",
    "        pass\n",
    "\n",
    "    def kl(self):\n",
    "        \"\"\"KL(q,p), where q is Gaussian and p is from the given prior family\"\"\"\n",
    "        pass\n",
    "\n",
    "    def init_params_for(self, model, init_mu=0.0, init_scale=0.1, init_const=-3.0):\n",
    "        pass"
   ]
  },
  {
   "cell_type": "code",
   "execution_count": 31,
   "id": "ab2f6854-66c0-4bb1-82df-6c86de5de2d9",
   "metadata": {},
   "outputs": [],
   "source": [
    "class GaussianPrior(Prior):\n",
    "    def __init__(self):\n",
    "        super().__init__()\n",
    "\n",
    "    def kl(self, q, p):\n",
    "        q_mu, q_sigma = q['mu'], q['sigma']\n",
    "        p_mu, p_sigma = p['mu'], p['sigma']\n",
    "        \n",
    "        ratio = (q_sigma / p_sigma) ** 2\n",
    "        log_std = torch.log(1./ratio)\n",
    "        mean_term = ratio + ((q_mu - p_mu) / p_sigma) ** 2\n",
    "        return 0.5 * (log_std + mean_term - 1)\n",
    "\n",
    "    def init_params_for(self, model, init_mu=0.0, init_scale=0.1, init_const=-3.0):\n",
    "        nn.init.normal_(model.W_mu, mean=init_mu, std=init_scale)\n",
    "        nn.init.normal_(model.b_mu, mean=init_mu, std=init_scale)\n",
    "        model.W_rho.data.fill_(init_const)\n",
    "        model.b_rho.data.fill_(init_const)"
   ]
  },
  {
   "cell_type": "code",
   "execution_count": 32,
   "id": "a779ecd6-9335-492d-99a5-ed7ad79a41ab",
   "metadata": {},
   "outputs": [],
   "source": [
    "class ExponentialPrior(Prior):\n",
    "    def __init__(self):\n",
    "        super().__init__()\n",
    "\n",
    "    def kl(self, q, p):\n",
    "        p_rate = 1. / p['mu']  # mu = sigma = 1/rate\n",
    "        q_sigma = q['sigma']\n",
    "        # E[log p(X)] = log(lambda) - lambda E[X] = log(lambda) - 1\n",
    "        logp = torch.log(p_rate) - 1\n",
    "        # E[log q(X)] = -0.5 * [(1/sigma^2)Var(X) + log(2pi sigma^2)] = -0.5 * [1 + log(2pi sigma^2)]\n",
    "        logq = -0.5 * (1. + torch.log(2*np.pi * (q_sigma ** 2)))\n",
    "        return logq - logp\n",
    "\n",
    "    def init_params_for(self, model, init_mu=0.0, init_scale=1., init_const=-3.0):\n",
    "        exp_dist = Exponential(1./init_scale)  # Exp(rate)\n",
    "        model.W_mu.data = exp_dist.sample(model.W_mu.shape) * torch.sign(torch.randn_like(model.W_mu))\n",
    "        model.b_mu.data = exp_dist.sample(model.b_mu.shape) * torch.sign(torch.randn_like(model.b_mu))\n",
    "        model.W_rho.data.fill_(init_const)\n",
    "        model.b_rho.data.fill_(init_const)"
   ]
  },
  {
   "cell_type": "code",
   "execution_count": null,
   "id": "ddf3b8fc-7eb3-4ca0-98b1-658cd00fee34",
   "metadata": {},
   "outputs": [],
   "source": []
  }
 ],
 "metadata": {
  "kernelspec": {
   "display_name": "Python 3 (ipykernel)",
   "language": "python",
   "name": "python3"
  },
  "language_info": {
   "codemirror_mode": {
    "name": "ipython",
    "version": 3
   },
   "file_extension": ".py",
   "mimetype": "text/x-python",
   "name": "python",
   "nbconvert_exporter": "python",
   "pygments_lexer": "ipython3",
   "version": "3.12.7"
  }
 },
 "nbformat": 4,
 "nbformat_minor": 5
}
