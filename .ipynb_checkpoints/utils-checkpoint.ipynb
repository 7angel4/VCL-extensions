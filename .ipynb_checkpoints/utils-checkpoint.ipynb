{
 "cells": [
  {
   "cell_type": "code",
   "execution_count": 7,
   "id": "21c4630a-ce95-476b-9056-5776a8825515",
   "metadata": {},
   "outputs": [],
   "source": [
    "%run constants.ipynb"
   ]
  },
  {
   "cell_type": "code",
   "execution_count": 8,
   "id": "1cc6e16e-95f0-42ba-9a12-d483963bfa2b",
   "metadata": {},
   "outputs": [],
   "source": [
    "def get_results_dir(config):\n",
    "    results_dir = f'{RESULTS_DIR}/{config.dataset_type}'\n",
    "    os.makedirs(results_dir, exist_ok=True)\n",
    "    return results_dir\n",
    "\n",
    "def plot_filepath(config):\n",
    "    return f\"{get_results_dir(config)}/{config.task_type}_{config.coreset_alg_name}_plot.png\"\n",
    "\n",
    "def data_filepath(config, datatype='mean'):\n",
    "    return f\"{get_results_dir(config)}/{config.task_type}_{config.coreset_alg_name}_{datatype}.h5\""
   ]
  },
  {
   "cell_type": "code",
   "execution_count": 9,
   "id": "464bb178-2bb9-4c7c-aa65-8cf958842214",
   "metadata": {},
   "outputs": [],
   "source": [
    "import h5py\n",
    "\n",
    "def export_results(config, data, datatype='mean'):\n",
    "    \"\"\" Exports the dictionary `data` to an HDF5 file. \"\"\"\n",
    "    with h5py.File(data_filepath(config, datatype), 'w') as f:\n",
    "        # Iterate over the dictionary and save each array as a dataset\n",
    "        for key, array in data.items():\n",
    "            f.create_dataset(key, data=array)\n",
    "\n",
    "def import_results(config, datatype='mean'):\n",
    "    \"\"\" Imports the data dictionary from an HDF5 file. \"\"\"\n",
    "    imported_data = {}\n",
    "    with h5py.File(data_filepath(config, datatype), 'r') as f:\n",
    "        # Iterate through the keys in the file and load the datasets\n",
    "        for key in f.keys():\n",
    "            imported_data[key] = f[key][:]\n",
    "    return imported_data"
   ]
  },
  {
   "cell_type": "code",
   "execution_count": null,
   "id": "dc88f2dc-3570-4d66-8202-484b340374c3",
   "metadata": {},
   "outputs": [],
   "source": []
  }
 ],
 "metadata": {
  "kernelspec": {
   "display_name": "Python 3 (ipykernel)",
   "language": "python",
   "name": "python3"
  },
  "language_info": {
   "codemirror_mode": {
    "name": "ipython",
    "version": 3
   },
   "file_extension": ".py",
   "mimetype": "text/x-python",
   "name": "python",
   "nbconvert_exporter": "python",
   "pygments_lexer": "ipython3",
   "version": "3.12.7"
  }
 },
 "nbformat": 4,
 "nbformat_minor": 5
}
