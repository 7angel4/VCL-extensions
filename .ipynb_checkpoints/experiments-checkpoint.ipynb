{
 "cells": [
  {
   "cell_type": "code",
   "execution_count": 50,
   "id": "c3950908-d649-4250-b01f-ae828ad30b51",
   "metadata": {},
   "outputs": [],
   "source": [
    "%run constants.ipynb\n",
    "%run dataloaders.ipynb\n",
    "%run utils.ipynb\n",
    "%run prior.ipynb\n",
    "%run models.ipynb\n",
    "%run coresets.ipynb\n",
    "%run train_and_test.ipynb\n",
    "%run config.ipynb"
   ]
  },
  {
   "cell_type": "code",
   "execution_count": 51,
   "id": "4f887e5b-a96f-4df6-90f1-587e117fdb75",
   "metadata": {},
   "outputs": [],
   "source": [
    "def print_if(msg, print_progress):\n",
    "    if print_progress:\n",
    "        print(msg)\n",
    "\n",
    "def run_experiment_for(model, print_progress=False):\n",
    "    config = model.config\n",
    "    dataloaders = config.dataloaders\n",
    "    coreset_alg = config.coreset_alg\n",
    "    assert coreset_alg.coresets == []  # should initially be empty\n",
    "    results = np.zeros((len(config.tasks), len(config.tasks)))\n",
    "    results_std = np.zeros((len(config.tasks), len(config.tasks)))\n",
    "    is_vcl = isinstance(model, VCLNN)\n",
    "    \n",
    "    # Train and evaluate\n",
    "    for task_id in range(len(config.tasks)):\n",
    "        print_if(f\"\\nTraining on Task {task_id+1} ...\", print_progress)\n",
    "        train_loader, _ = dataloaders[task_id]\n",
    "        # Train on non-coreset data\n",
    "        train(model, train_loader, task_id)\n",
    "        print_if(f\"... Finished training on Task {task_id+1}\", print_progress)\n",
    "        \n",
    "        # Train on new coreset\n",
    "        if is_vcl and coreset_alg is not None and config.coreset_size > 0:  # VCL models with coresets\n",
    "            coreset_alg.add_coreset(train_loader)\n",
    "            # Train on coresets from previous tasks\n",
    "            for prev_task in range(task_id+1):\n",
    "                print_if(f\"\\nRe-training on Task {prev_task+1} ...\", print_progress)\n",
    "                train(model, coreset_alg.coresets[prev_task], prev_task)\n",
    "        print_if('', print_progress)\n",
    "        \n",
    "        # Evaluate on previous tasks\n",
    "        for curr_t in range(task_id+1):\n",
    "            _, test_loader = dataloaders[curr_t]\n",
    "            score, std = test(model, test_loader, curr_t, ret_std=True)\n",
    "            print_if(f\"Task {(curr_t+1):2d}  {config.eval_metric}: \\\n",
    "                        {np.round(score, 4):0.4f} ± {np.round(std, 4):0.4f}\", print_progress)\n",
    "            results[task_id, curr_t] = score\n",
    "            results_std[task_id, curr_t] = std\n",
    "        print_if('', print_progress)\n",
    "\n",
    "        if is_vcl and config.update_prior:  # update prior for VCL models\n",
    "            model.update_priors()\n",
    "            \n",
    "    return results, results_std"
   ]
  },
  {
   "cell_type": "code",
   "execution_count": 52,
   "id": "b34902f7-f1c6-44d6-8e98-54c3a2bef9e3",
   "metadata": {},
   "outputs": [],
   "source": [
    "from copy import deepcopy"
   ]
  },
  {
   "cell_type": "code",
   "execution_count": 53,
   "id": "5a048432-1347-4e31-a696-b85a0cf9627f",
   "metadata": {},
   "outputs": [],
   "source": [
    "def run_experiment(config, ret_std=False, print_progress=False):\n",
    "    \"\"\"Run complete VCL experiment\"\"\"\n",
    "    exponential_random_config = deepcopy(config)\n",
    "    exponential_random_config.prior_type = 'exponential'\n",
    "    # exponential_random_config.init_prior_scale = 0.01\n",
    "    \n",
    "    # Initialize models\n",
    "    vanillaNN = VanillaNN(config).to(DEVICE)\n",
    "    gaussian_vclNN = VCLNN(config).to(DEVICE)\n",
    "    exponential_vclNN = VCLNN(exponential_random_config).to(DEVICE)\n",
    "\n",
    "    vanilla_results, vanilla_results_std = run_experiment_for(vanillaNN, print_progress)\n",
    "    gaussian_random_vcl_results, gaussian_random_vcl_results_std = run_experiment_for(gaussian_vclNN, print_progress)\n",
    "    exponential_random_vcl_results, exponential_random_vcl_results_std = run_experiment_for(exponential_vclNN, print_progress)\n",
    "    \n",
    "    results = { 'Vanilla': vanilla_results, 'Gaussian VCL': gaussian_random_vcl_results, 'Exponential VCL': exponential_random_vcl_results }\n",
    "    results_std = { 'Vanilla': vanilla_results_std, 'Gaussian VCL': gaussian_random_vcl_results_std, 'Exponential VCL': exponential_random_vcl_results_std }\n",
    "    \n",
    "    return results if not ret_std else (results, results_std)"
   ]
  },
  {
   "cell_type": "code",
   "execution_count": 54,
   "id": "94852842-da03-4499-9a26-c1d2ae9bf3ac",
   "metadata": {},
   "outputs": [],
   "source": [
    "def plot_results(config, results, results_std=None, export=True):\n",
    "    \"\"\"Plot comparison of results with optional error bars.\"\"\"\n",
    "    MARKER_SIZE = 8\n",
    "    CAPSIZE = 4\n",
    "    ELINEWIDTH = 1\n",
    "    fig, (ax1, ax2) = plt.subplots(1, 2, figsize=(18, 6))\n",
    "    x_ticks = range(1, len(config.tasks)+1)\n",
    "    \n",
    "    for model in results:\n",
    "        mean_yval = (lambda res: np.mean(res[model], axis=0, where=(res[model] > 1e-6))) # average over non-zero metrics\n",
    "        mean_scores = mean_yval(results)\n",
    "        x_vals = np.arange(len(mean_scores)) + 1\n",
    "        # If std info is provided, add error bars\n",
    "        if results_std is not None:\n",
    "            ax1.errorbar(x_vals, mean_scores, yerr=mean_yval(results_std), \n",
    "                         label=model, marker='o', \n",
    "                         markersize=MARKER_SIZE, capsize=CAPSIZE, elinewidth=ELINEWIDTH)\n",
    "        else:\n",
    "            ax1.plot(x_vals, mean_scores, \n",
    "                     label=model, marker='o', markersize=MARKER_SIZE)\n",
    "    \n",
    "    ax1.set_xticks(x_ticks)\n",
    "    ax1.set_title(f\"Mean {config.eval_metric}\", fontsize=18)\n",
    "    ax1.set_xlabel(\"# Tasks\", fontsize=15)\n",
    "    ax1.legend(fontsize=16)\n",
    "\n",
    "    # Final score plot (no std)\n",
    "    for model in results:\n",
    "        final_scores = results[model][-1]\n",
    "        x_vals = np.arange(len(final_scores)) + 1\n",
    "        if results_std is not None:\n",
    "            ax2.errorbar(x_vals, final_scores, yerr=results_std[model][-1], \n",
    "                         label=model, marker='o', \n",
    "                         markersize=MARKER_SIZE, capsize=CAPSIZE, elinewidth=ELINEWIDTH)\n",
    "        else:\n",
    "            ax2.plot(x_vals, final_scores, \n",
    "                     label=model, marker='o', markersize=MARKER_SIZE)\n",
    "\n",
    "    ax2.set_xticks(x_ticks)\n",
    "    ax2.set_title(f\"Final {config.eval_metric}\", fontsize=18)\n",
    "    ax2.set_xlabel(\"# Tasks\", fontsize=15)\n",
    "    ax2.legend(fontsize=15)\n",
    "\n",
    "    plt.tight_layout()\n",
    "    if export:\n",
    "        plt.savefig(plot_filepath(config))\n",
    "    \n",
    "    plt.show()"
   ]
  },
  {
   "cell_type": "markdown",
   "id": "d9899cad-5b55-4a1b-948c-3d9fb711a6e4",
   "metadata": {},
   "source": [
    "# Minimum required extensions"
   ]
  },
  {
   "cell_type": "code",
   "execution_count": null,
   "id": "9dad9ce7-0801-45c0-901d-12bfa04136f9",
   "metadata": {
    "scrolled": true
   },
   "outputs": [
    {
     "name": "stdout",
     "output_type": "stream",
     "text": [
      "\n",
      "Training on Task 1 ...\n"
     ]
    }
   ],
   "source": [
    "config = ExperimentConfig()\n",
    "config.dataset_type = 'split'\n",
    "config.task_type = 'classification'\n",
    "config.coreset_alg_name = 'random'\n",
    "\n",
    "# Set random seeds\n",
    "torch.manual_seed(777)\n",
    "np.random.seed(777)\n",
    "\n",
    "# Run experiment\n",
    "split_cla_results, split_cla_results_std = run_experiment(config, ret_std=True, print_progress=True)"
   ]
  },
  {
   "cell_type": "code",
   "execution_count": null,
   "id": "a03e750a-6f49-4653-bc20-e2e793b01cde",
   "metadata": {},
   "outputs": [],
   "source": [
    "split_cla_results"
   ]
  },
  {
   "cell_type": "code",
   "execution_count": null,
   "id": "ccaa701b-d6ae-408e-b2f5-156f65b8a803",
   "metadata": {},
   "outputs": [],
   "source": [
    "plot_results(config, split_cla_results, results_std=split_cla_results_std)"
   ]
  },
  {
   "cell_type": "code",
   "execution_count": null,
   "id": "e1fa721b-f3b1-4184-88f8-8825a055741c",
   "metadata": {
    "scrolled": true
   },
   "outputs": [],
   "source": [
    "config = ExperimentConfig()\n",
    "config.dataset_type = 'split'\n",
    "config.task_type = 'regression'\n",
    "config.coreset_alg_name = 'random'\n",
    "# config.init_prior_scale = 0.01\n",
    "\n",
    "# Run experiment\n",
    "split_reg_results, split_reg_results_std = run_experiment(config, ret_std=True)"
   ]
  },
  {
   "cell_type": "code",
   "execution_count": null,
   "id": "d748713e-24a6-4892-8022-1d5b0f2182cc",
   "metadata": {},
   "outputs": [],
   "source": [
    "plot_results(config, split_reg_results, split_reg_results_std)"
   ]
  },
  {
   "cell_type": "markdown",
   "id": "7ee4b84f-8ef2-4b80-b5c3-50dda8e50a59",
   "metadata": {},
   "source": [
    "# Without updating prior"
   ]
  },
  {
   "cell_type": "code",
   "execution_count": null,
   "id": "1f228742-d982-4352-967a-a7538ee32cca",
   "metadata": {},
   "outputs": [],
   "source": [
    "config = ExperimentConfig()\n",
    "config.task_type = 'classification'\n",
    "config.coreset_alg_name = 'random'\n",
    "config.update_prior = False\n",
    "\n",
    "# Set random seeds\n",
    "torch.manual_seed(777)\n",
    "np.random.seed(888)\n",
    "\n",
    "# Run experiment\n",
    "noprior_cla_results, noprior_cla_results_std = run_experiment(config, ret_std=True)"
   ]
  },
  {
   "cell_type": "code",
   "execution_count": null,
   "id": "7a7b600e-23f0-477c-9bb6-750b02c811e1",
   "metadata": {},
   "outputs": [],
   "source": [
    "plot_results(config, noprior_cla_results, results_std=noprior_cla_results_std)"
   ]
  },
  {
   "cell_type": "code",
   "execution_count": null,
   "id": "120854a3-cc20-4e6f-926d-e933c61aeb94",
   "metadata": {},
   "outputs": [],
   "source": [
    "config = ExperimentConfig()\n",
    "config.task_type = 'regression'\n",
    "config.coreset_alg_name = 'random'\n",
    "config.update_prior = False\n",
    "\n",
    "# Run experiment\n",
    "noprior_reg_results, noprior_eg_results_std = run_experiment(config, ret_std=True)"
   ]
  },
  {
   "cell_type": "code",
   "execution_count": null,
   "id": "66ab29d6-e7c1-4b7f-b21e-9946b024a5af",
   "metadata": {},
   "outputs": [],
   "source": [
    "plot_results(config, noprior_reg_results, results_std=noprior_eg_results_std)"
   ]
  },
  {
   "cell_type": "markdown",
   "id": "b060c13a-631c-4e5c-8ac9-62e2c441c0d7",
   "metadata": {},
   "source": [
    "# Changing Coreset Size"
   ]
  },
  {
   "cell_type": "code",
   "execution_count": null,
   "id": "775c98e4-3070-41fc-8e1e-3b2d38f38065",
   "metadata": {
    "scrolled": true
   },
   "outputs": [],
   "source": [
    "config = ExperimentConfig()\n",
    "config.dataset_type = 'split'\n",
    "config.task_type = 'classification'\n",
    "config.coreset_size = 100\n",
    "config.validate()\n",
    "\n",
    "torch.manual_seed(321)\n",
    "np.random.seed(888)\n",
    "\n",
    "# Run experiment\n",
    "split_cla_results_100, split_cla_results_std_100 = run_experiment(config, ret_std=True)"
   ]
  },
  {
   "cell_type": "code",
   "execution_count": null,
   "id": "74446faa-9a8b-413c-8a53-a9705b483f2e",
   "metadata": {},
   "outputs": [],
   "source": [
    "plot_results(config, split_cla_results_100, results_std=split_cla_results_std_100)"
   ]
  },
  {
   "cell_type": "code",
   "execution_count": null,
   "id": "0cce8ff2-cb49-4293-b581-d28f841af429",
   "metadata": {
    "scrolled": true
   },
   "outputs": [],
   "source": [
    "config = ExperimentConfig()\n",
    "config.dataset_type = 'split'\n",
    "config.task_type = 'regression'\n",
    "config.coreset_size = 100\n",
    "config.validate()\n",
    "\n",
    "torch.manual_seed(777)\n",
    "np.random.seed(888)\n",
    "\n",
    "# Run experiment\n",
    "split_reg_results_100, split_reg_results_std_100 = run_experiment(config, ret_std=True)"
   ]
  },
  {
   "cell_type": "code",
   "execution_count": null,
   "id": "2ae196cb-d04c-4580-8ccd-48d7e526dd42",
   "metadata": {},
   "outputs": [],
   "source": [
    "plot_results(config, split_reg_results_100, results_std=split_reg_results_std_100)"
   ]
  },
  {
   "cell_type": "code",
   "execution_count": null,
   "id": "f216adff-f7a9-4c2e-852e-051199e53347",
   "metadata": {},
   "outputs": [],
   "source": [
    "plot_results(config, split_reg_results_0, results_std=split_reg_results_std_0)"
   ]
  },
  {
   "cell_type": "markdown",
   "id": "c38857df-ad2e-478e-839a-b7d27fd7f79a",
   "metadata": {},
   "source": [
    "# Changing Coreset Algorithm"
   ]
  },
  {
   "cell_type": "code",
   "execution_count": null,
   "id": "d5aa6a37-8893-49a6-86a0-0748a2b743db",
   "metadata": {
    "scrolled": true
   },
   "outputs": [],
   "source": [
    "config = ExperimentConfig()\n",
    "config.task_type = 'classification'\n",
    "config.coreset_alg_name = 'kcenter'\n",
    "config.validate()\n",
    "\n",
    "# Run experiment\n",
    "split_cla_results_kcenter, split_cla_results_kcenter_std = run_experiment(config, ret_std=True)"
   ]
  },
  {
   "cell_type": "code",
   "execution_count": null,
   "id": "7edb42c5-0490-406b-9fda-03dbc407fa19",
   "metadata": {},
   "outputs": [],
   "source": [
    "plot_results(config, split_cla_results_kcenter, results_std=split_cla_results_kcenter_std)"
   ]
  },
  {
   "cell_type": "code",
   "execution_count": null,
   "id": "ebbfcfdd-eb9e-49f1-8c75-c5708f5b3e40",
   "metadata": {
    "scrolled": true
   },
   "outputs": [],
   "source": [
    "config = ExperimentConfig()\n",
    "config.task_type = 'regression'\n",
    "config.coreset_alg_name = 'kcenter'\n",
    "config.validate()\n",
    "\n",
    "# Run experiment\n",
    "split_reg_results_kcenter, split_reg_results_kcenter_std = run_experiment(config, ret_std=True)"
   ]
  },
  {
   "cell_type": "code",
   "execution_count": null,
   "id": "3ec0185e-8cf2-4634-96e8-ce9d8c6a7bdb",
   "metadata": {},
   "outputs": [],
   "source": [
    "plot_results(config, split_reg_results_kcenter, results_std=split_reg_results_kcenter_std)"
   ]
  },
  {
   "cell_type": "code",
   "execution_count": null,
   "id": "fe24df5f-44f2-424d-9bf0-e357ea142f36",
   "metadata": {},
   "outputs": [],
   "source": [
    "config = ExperimentConfig()\n",
    "config.task_type = 'regression'\n",
    "config.coreset_size = 0\n",
    "\n",
    "# Run experiment\n",
    "cla_results_none, cla_results_none_std = run_experiment(config, ret_std=True)"
   ]
  },
  {
   "cell_type": "code",
   "execution_count": null,
   "id": "2d377376-5222-4759-b0d5-ed8e050b0f2d",
   "metadata": {},
   "outputs": [],
   "source": [
    "plot_results(config, cla_results_none, results_std=cla_results_none_std)"
   ]
  },
  {
   "cell_type": "code",
   "execution_count": null,
   "id": "5de378ae-3e59-4ea2-aafc-7ed3e7cd5820",
   "metadata": {},
   "outputs": [],
   "source": [
    "config = ExperimentConfig()\n",
    "config.task_type = 'regression'\n",
    "config.coreset_size = 0\n",
    "\n",
    "# Run experiment\n",
    "reg_results_none, reg_results_none_std = run_experiment(config, ret_std=True)"
   ]
  },
  {
   "cell_type": "code",
   "execution_count": null,
   "id": "6f64865b-6d63-4215-9780-65ba200617df",
   "metadata": {},
   "outputs": [],
   "source": [
    "plot_results(config, reg_results_none, results_std=reg_results_none_std)"
   ]
  },
  {
   "cell_type": "markdown",
   "id": "564d3fc0-4523-4b33-827a-c73becc8aaa1",
   "metadata": {},
   "source": [
    "# Compare multiple changes"
   ]
  },
  {
   "cell_type": "code",
   "execution_count": null,
   "id": "27dedb51-cf24-49d3-8062-b6f0a018eb05",
   "metadata": {},
   "outputs": [],
   "source": [
    "def run_experiment(task_type='classification', init_prior_scale=0.1, coreset_size=200, ret_std=True):\n",
    "    \"\"\"Run complete VCL experiment\"\"\"\n",
    "    gaussian_none_config = ExperimentConfig(task_type=task_type,\n",
    "                                            init_prior_scale=init_prior_scale,\n",
    "                                            coreset_size=0)\n",
    "    exponential_none_config = ExperimentConfig(task_type=task_type, \n",
    "                                               prior_type = 'exponential',\n",
    "                                               init_prior_scale=init_prior_scale,\n",
    "                                               coreset_size=0)\n",
    "    \n",
    "    gaussian_random_config = ExperimentConfig(task_type=task_type,\n",
    "                                              init_prior_scale=init_prior_scale,\n",
    "                                              coreset_size=coreset_size)\n",
    "    exponential_random_config = ExperimentConfig(task_type=task_type, \n",
    "                                          prior_type = 'exponential',\n",
    "                                          init_prior_scale=init_prior_scale,\n",
    "                                          coreset_size=coreset_size)\n",
    "    \n",
    "    gaussian_kcenter_config = ExperimentConfig(task_type=task_type,\n",
    "                                               coreset_alg_name='kcenter',\n",
    "                                               init_prior_scale=init_prior_scale,\n",
    "                                               coreset_size=coreset_size)\n",
    "    exponential_kcenter_config = ExperimentConfig(task_type=task_type, \n",
    "                                                  prior_type = 'exponential',\n",
    "                                                  coreset_alg_name='kcenter',\n",
    "                                                  init_prior_scale=init_prior_scale,\n",
    "                                                  coreset_size=coreset_size)\n",
    "    \n",
    "    \n",
    "    # Initialize models\n",
    "    vanillaNN = VanillaNN(gaussian_none_config).to(DEVICE)  # VanillaNN does not use coreset anyways\n",
    "    gaussian_none_vclNN = VCLNN(gaussian_none_config).to(DEVICE)\n",
    "    exponential_none_vclNN = VCLNN(exponential_none_config).to(DEVICE)\n",
    "    gaussian_random_vclNN = VCLNN(gaussian_random_config).to(DEVICE)\n",
    "    exponential_random_vclNN = VCLNN(exponential_random_config).to(DEVICE)\n",
    "    gaussian_kcenter_vclNN = VCLNN(gaussian_kcenter_config).to(DEVICE)\n",
    "    exponential_kcenter_vclNN = VCLNN(exponential_kcenter_config).to(DEVICE)\n",
    "    \n",
    "\n",
    "    vanilla_results, vanilla_results_std = run_experiment_for(vanillaNN)\n",
    "    gaussian_none_vcl_results, gaussian_none_vcl_results_std = run_experiment_for(gaussian_none_vclNN)\n",
    "    exponential_none_vcl_results, exponential_none_vcl_results_std = run_experiment_for(exponential_none_vclNN)\n",
    "    gaussian_random_vcl_results, gaussian_random_vcl_results_std = run_experiment_for(gaussian_random_vclNN)\n",
    "    exponential_random_vcl_results, exponential_random_vcl_results_std = run_experiment_for(exponential_random_vclNN)\n",
    "    gaussian_kcenter_vcl_results, gaussian_kcenter_vcl_results_std = run_experiment_for(gaussian_kcenter_vclNN)\n",
    "    exponential_kcenter_vcl_results, exponential_kcenter_vcl_results_std = run_experiment_for(exponential_kcenter_vclNN)\n",
    "    \n",
    "    results = { 'Vanilla': vanilla_results, \n",
    "               'Gaussian VCL (None)': gaussian_none_vcl_results, 'Exponential VCL (None)': exponential_none_vcl_results,\n",
    "               'Gaussian VCL (Random)': gaussian_random_vcl_results, 'Exponential VCL (Random)': exponential_random_vcl_results,\n",
    "               'Gaussian VCL (K-center)': gaussian_kcenter_vcl_results, 'Exponential VCL (K-center)': exponential_kcenter_vcl_results }\n",
    "    results_std = { 'Vanilla': vanilla_results_std, \n",
    "                    'Gaussian VCL (None)': gaussian_none_vcl_results_std, 'Exponential VCL (None)': exponential_none_vcl_results_std,\n",
    "                    'Gaussian VCL (Random)': gaussian_random_vcl_results_std, 'Exponential VCL (Random)': exponential_random_vcl_results_std,\n",
    "                    'Gaussian VCL (K-center)': gaussian_kcenter_vcl_results_std, 'Exponential VCL (K-center)': exponential_kcenter_vcl_results_std }\n",
    "    \n",
    "    return results if not ret_std else (results, results_std)"
   ]
  },
  {
   "cell_type": "code",
   "execution_count": null,
   "id": "fc84b85d-31b7-4ee3-980e-ff77d899fd54",
   "metadata": {
    "scrolled": true
   },
   "outputs": [],
   "source": [
    "cla_results, cla_std = run_experiment(task_type='classification')"
   ]
  },
  {
   "cell_type": "code",
   "execution_count": null,
   "id": "e63ce885-53fb-4500-aa52-8e9ca5ddce91",
   "metadata": {},
   "outputs": [],
   "source": [
    "plot_results(ExperimentConfig(task_type='classification'), \n",
    "             cla_results, results_std=cla_std)"
   ]
  },
  {
   "cell_type": "code",
   "execution_count": null,
   "id": "97165cf9-9635-41dc-896a-41f818d4d133",
   "metadata": {},
   "outputs": [],
   "source": [
    "plot_results(ExperimentConfig(task_type='classification'), \n",
    "             cla_results, results_std=cla_std)"
   ]
  },
  {
   "cell_type": "code",
   "execution_count": null,
   "id": "f9cd8645-60b9-4223-9e58-cbae32a7c58b",
   "metadata": {
    "scrolled": true
   },
   "outputs": [],
   "source": [
    "reg_results, reg_std = run_experiment(task_type='regression')"
   ]
  },
  {
   "cell_type": "code",
   "execution_count": null,
   "id": "852d737d-adbe-4641-b34c-792fc44f1685",
   "metadata": {},
   "outputs": [],
   "source": [
    "plot_results(ExperimentConfig(task_type='regression'), \n",
    "             reg_results, results_std=reg_std)"
   ]
  },
  {
   "cell_type": "code",
   "execution_count": null,
   "id": "598a49b0-7927-4c45-b4dd-5b5a80853c16",
   "metadata": {},
   "outputs": [],
   "source": [
    "plot_results(ExperimentConfig(task_type='regression'), \n",
    "             reg_results, results_std=reg_std)"
   ]
  },
  {
   "cell_type": "code",
   "execution_count": null,
   "id": "d8f4f79a-b858-4764-bbca-90faebd3ffde",
   "metadata": {
    "scrolled": true
   },
   "outputs": [],
   "source": [
    "small_scale_cla_results, small_scale_cla_std = run_experiment(task_type='classification',\n",
    "                                                             init_prior_scale=0.01)"
   ]
  },
  {
   "cell_type": "code",
   "execution_count": null,
   "id": "0e9687fc-69c1-453d-a159-ad38ec97e56d",
   "metadata": {},
   "outputs": [],
   "source": [
    "plot_results(ExperimentConfig(task_type='classification', init_prior_scale=0.01), \n",
    "             small_scale_cla_results, results_std=small_scale_cla_std)"
   ]
  },
  {
   "cell_type": "code",
   "execution_count": null,
   "id": "c5f6e742-808a-4ffb-b8f4-2ba55cfce676",
   "metadata": {
    "scrolled": true
   },
   "outputs": [],
   "source": [
    "small_scale_reg_results, small_scale_reg_std = run_experiment(task_type='regression',\n",
    "                                                             init_prior_scale=0.01)"
   ]
  },
  {
   "cell_type": "code",
   "execution_count": null,
   "id": "beabacdb-19ae-4249-bb8c-1191e1cc5a80",
   "metadata": {},
   "outputs": [],
   "source": [
    "plot_results(ExperimentConfig(task_type='regression', init_prior_scale=0.01), \n",
    "             small_scale_reg_results, results_std=small_scale_reg_std)"
   ]
  },
  {
   "cell_type": "code",
   "execution_count": null,
   "id": "85e75989-badf-4e29-be6c-cad2d0b5b09d",
   "metadata": {
    "scrolled": true
   },
   "outputs": [],
   "source": [
    "small_coreset_cla_results, small_coreset_cla_std = run_experiment(task_type='classification',\n",
    "                                                                  coreset_size=100)"
   ]
  },
  {
   "cell_type": "code",
   "execution_count": null,
   "id": "c27bcb55-0ee8-414b-b15b-da7494dbb01e",
   "metadata": {},
   "outputs": [],
   "source": [
    "plot_results(ExperimentConfig(task_type='classification', coreset_size=100), \n",
    "             small_coreset_cla_results, results_std=small_coreset_cla_std)"
   ]
  },
  {
   "cell_type": "code",
   "execution_count": null,
   "id": "1de2ea1c-5151-46ed-b25a-36c3c939acdc",
   "metadata": {
    "scrolled": true
   },
   "outputs": [],
   "source": [
    "small_coreset_reg_results, small_coreset_reg_std = run_experiment(task_type='regression',\n",
    "                                                                coreset_size=100)"
   ]
  },
  {
   "cell_type": "code",
   "execution_count": null,
   "id": "ed657d88-9fca-4e32-b2b3-09e054d53cb0",
   "metadata": {},
   "outputs": [],
   "source": [
    "plot_results(ExperimentConfig(task_type='regression', coreset_size=100), \n",
    "             small_coreset_reg_results, results_std=small_coreset_reg_std)"
   ]
  },
  {
   "cell_type": "code",
   "execution_count": null,
   "id": "29f0070e-b505-49bb-a87c-f8692e0bcf95",
   "metadata": {},
   "outputs": [],
   "source": []
  }
 ],
 "metadata": {
  "kernelspec": {
   "display_name": "Python 3 (ipykernel)",
   "language": "python",
   "name": "python3"
  },
  "language_info": {
   "codemirror_mode": {
    "name": "ipython",
    "version": 3
   },
   "file_extension": ".py",
   "mimetype": "text/x-python",
   "name": "python",
   "nbconvert_exporter": "python",
   "pygments_lexer": "ipython3",
   "version": "3.12.7"
  }
 },
 "nbformat": 4,
 "nbformat_minor": 5
}
