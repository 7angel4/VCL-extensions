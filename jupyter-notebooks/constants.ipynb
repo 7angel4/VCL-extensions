{
 "cells": [
  {
   "cell_type": "code",
   "execution_count": null,
   "id": "db477781-9283-4000-af4c-e58d00135299",
   "metadata": {},
   "outputs": [],
   "source": [
    "import numpy as np\n",
    "import torch\n",
    "import torch.nn as nn\n",
    "import torch.nn.functional as F\n",
    "import torchvision\n",
    "from torchvision import transforms\n",
    "import matplotlib.pyplot as plt\n",
    "import os"
   ]
  },
  {
   "cell_type": "code",
   "execution_count": null,
   "id": "ef07ff44-8257-4452-8c48-cf945ea1e3fe",
   "metadata": {},
   "outputs": [],
   "source": [
    "DEVICE = torch.device(\"cuda\") if torch.cuda.is_available() else torch.device(\"cpu\")\n",
    "MNIST_INPUT_DIM = 784\n",
    "MNIST_IMG_SIZE = int(np.sqrt(MNIST_INPUT_DIM))\n",
    "EPS_OFFSET = 1e-16  # ensure nonzero sqrt\n",
    "NUM_MNIST_CLASSES = 10\n",
    "MNIST_CLASSES = list(range(NUM_MNIST_CLASSES))\n",
    "VANILLA_MODEL = 'Vanilla'\n",
    "RESULTS_DIR = os.getcwd() + '/results'\n",
    "DATA_ROOT = './data'"
   ]
  },
  {
   "cell_type": "code",
   "execution_count": null,
   "id": "835fc03e-8842-41d4-86be-213f31701562",
   "metadata": {},
   "outputs": [],
   "source": []
  }
 ],
 "metadata": {
  "kernelspec": {
   "display_name": "Python 3 (ipykernel)",
   "language": "python",
   "name": "python3"
  },
  "language_info": {
   "codemirror_mode": {
    "name": "ipython",
    "version": 3
   },
   "file_extension": ".py",
   "mimetype": "text/x-python",
   "name": "python",
   "nbconvert_exporter": "python",
   "pygments_lexer": "ipython3",
   "version": "3.12.7"
  }
 },
 "nbformat": 4,
 "nbformat_minor": 5
}
